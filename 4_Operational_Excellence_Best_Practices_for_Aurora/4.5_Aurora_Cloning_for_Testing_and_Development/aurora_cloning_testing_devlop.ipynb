{
 "cells": [
  {
   "cell_type": "markdown",
   "metadata": {},
   "source": [
    "# Aurora Cloning for Testing and Development\n",
    "\n",
    "<div style=\"background-color: #f8f9fa; border: 1px solid #e9ecef; border-radius: 8px; padding: 10px; margin: 10px;\">\n",
    "<strong>📋 Workshop Contents</strong>\n",
    "<ul style=\"line-height: 1.2;\">\n",
    "<li><a href=\"#Prerequisites\">Prerequisites</a></li>\n",
    "<li><a href=\"#Setting-up-the-environment-and-required-libraries\">Setting up the environment and required libraries</a></li>\n",
    "<li><a href=\"#1-Creating-Database-Clones\">1. Creating Database Clones</a></li>\n",
    "<li><a href=\"#2-Using-Clones-for-Testing-and-Development\">2. Using Clones for Testing and Development</a></li>\n",
    "<li><a href=\"#3-Best-Practices-for-Managing-Clones\">3. Best Practices for Managing Clones</a></li>\n",
    "<li><a href=\"#4-Stress-Test-Strategies-and-Tools\">4. Stress Test Strategies and Tools</a></li>\n",
    "</ul>\n",
    "</div>\n",
    "\n",
    "## Prerequisites\n",
    "\n",
    "Before starting this workshop, ensure you have:\n",
    "\n",
    "- ✅ **Jupyter Notebook**: You can launch a [free tier Amazon SageMaker Jupyter Notebook](../../1_Getting_Started_with_AWS/1.4_Setting_up_Your_Cookbook_Environment/README.MD)\n",
    "- ✅ **Aurora PostgreSQL Cluster**: An active Aurora PostgreSQL cluster running in your AWS account\n",
    "  - If you don't have one, follow the setup guide: [Your First Database on AWS](../../2_Your_First_Database_on_AWS/README.MD)\n",
    "- ✅ **AWS CLI configured** with appropriate permissions for RDS operations\n",
    "- ✅ **IAM permissions** for:\n",
    "  - Aurora cluster cloning and restoration\n",
    "  - RDS instance creation and management\n",
    "  - Resource tagging and cleanup operations\n",
    "\n",
    "> 💡 **Note**: Aurora cloning uses copy-on-write technology, making it fast and cost-effective for testing environments.\n",
    "\n",
    "## Setting up the environment and required libraries\n",
    "\n",
    "This step initializes the required shell parameters to proceed with next steps:"
   ]
  },
  {
   "cell_type": "code",
   "execution_count": null,
   "metadata": {
    "vscode": {
     "languageId": "shellscript"
    }
   },
   "outputs": [],
   "source": [
    "%%bash\n",
    "\n",
    "echo \"Setting parameters\"\n",
    "source_cluster_id=<source-cluster-identifier>\n",
    "clone_cluster_id=<clone-cluster-identifier>"
   ]
  },
  {
   "cell_type": "markdown",
   "metadata": {},
   "source": [
    "## 1. Creating Database Clones\n",
    "\n",
    "These functions create Aurora clones using copy-on-write technology for fast, cost-effective database copies and monitor the cloning process until completion. Aurora cloning creates a new cluster that shares the same underlying storage as the source, making it ideal for testing and development. You'll see clone creation responses and availability status updates."
   ]
  },
  {
   "cell_type": "code",
   "execution_count": null,
   "metadata": {
    "vscode": {
     "languageId": "shellscript"
    }
   },
   "outputs": [],
   "source": [
    "%%bash\n",
    "export source_cluster_id=<source-cluster-identifier>\n",
    "export clone_cluster_id=<clone-cluster-identifier>\n",
    "\n",
    "echo \"Creating a Database Clone\"\n",
    "aws rds restore-db-cluster-to-point-in-time \\\n",
    "    --db-cluster-identifier $clone_cluster_id \\\n",
    "    --source-db-cluster-identifier $source_cluster_id \\\n",
    "    --restore-type copy-on-write \\\n",
    "    --use-latest-restorable-time \\\n",
    "    --tags Key=CreationSource,Value=aws-database-cookbook-v2025.8\n",
    "\n",
    "echo \"✅ Cluster Cloned Successfully\""
   ]
  },
  {
   "cell_type": "markdown",
   "metadata": {},
   "source": [
    "## 2. Using Clones for Testing and Development\n",
    "\n",
    "This function configures Aurora clones specifically for testing environments by creating database instances and applying test-optimized parameter settings. The setup includes performance tuning parameters suitable for development workloads and testing scenarios. You'll see instance creation responses and parameter group modifications for optimal testing performance."
   ]
  },
  {
   "cell_type": "code",
   "execution_count": null,
   "metadata": {
    "vscode": {
     "languageId": "shellscript"
    }
   },
   "outputs": [],
   "source": [
    "%%bash\n",
    "export source_cluster_id=<source-cluster-identifier>\n",
    "export clone_cluster_id=<clone-cluster-identifier>\n",
    "\n",
    "echo \"Step 1: Create DB instance in the clone cluster\"\n",
    "aws rds create-db-instance \\\n",
    "    --db-instance-identifier \"${clone_cluster_id}-instance-1\" \\\n",
    "    --db-cluster-identifier ${clone_cluster_id} \\\n",
    "    --engine aurora-postgresql \\\n",
    "    --db-instance-class db.r5.large \\\n",
    "    --tags Key=CreationSource,Value=aws-database-cookbook-v2025.8\n",
    "\n",
    "echo \"Step 2: Get the parameter group name from the created instance\"\n",
    "parameter_group_name=$(aws rds describe-db-instances \\\n",
    "    --db-instance-identifier \"${clone_cluster_id}-instance-1\" \\\n",
    "    --query 'DBInstances[0].DBParameterGroups[0].DBParameterGroupName' \\\n",
    "    --output text)\n",
    "\n",
    "echo \"Step 3: Modify the parameter group with new values\"\n",
    "aws rds modify-db-parameter-group \\\n",
    "    --db-parameter-group-name ${parameter_group_name} \\\n",
    "    --parameters \\\n",
    "    \"ParameterName=max_connections,ParameterValue=1000,ApplyMethod=immediate\" \\\n",
    "    \"ParameterName=work_mem,ParameterValue=32768,ApplyMethod=immediate\"\n",
    "\n",
    "echo \"✅ Instance Node Created and Configured Successfully\""
   ]
  },
  {
   "cell_type": "markdown",
   "metadata": {},
   "source": [
    "## 3. Best Practices for Managing Clones\n",
    "\n",
    "These functions implement clone lifecycle management including automated cleanup of old clones and proper resource tagging for cost control and organization. The management system prevents clone sprawl by automatically removing outdated test environments and ensures proper resource tracking. You'll see cleanup operations and tagging confirmations for effective clone governance."
   ]
  },
  {
   "cell_type": "code",
   "execution_count": null,
   "metadata": {
    "vscode": {
     "languageId": "shellscript"
    }
   },
   "outputs": [],
   "source": [
    "%%bash\n",
    "\n",
    "export source_cluster_id=<source-cluster-identifier>\n",
    "export clone_cluster_id=<clone-cluster-identifier>\n",
    "\n",
    "clone_cluster_id=$1\n",
    "current_date=$(date +%Y-%m-%d)\n",
    "deletion_threshold=7  # days\n",
    "\n",
    "# Function to clean up old clones\n",
    "cleanup_old_clones() {\n",
    "    echo \"Cleaning up old clones...\"\n",
    "    \n",
    "    # Get all DB clusters\n",
    "    clusters=$(aws rds describe-db-clusters --query 'DBClusters[*].[DBClusterIdentifier,ClusterCreateTime]' --output text)\n",
    "    \n",
    "    while IFS=$'\\t' read -r cluster_id create_time; do\n",
    "        # Check if cluster ID starts with 'clone-'\n",
    "        if [[ $cluster_id == clone-* ]]; then\n",
    "            # Convert creation date to seconds since epoch\n",
    "            create_date_seconds=$(date -d \"$create_time\" +%s)\n",
    "            current_date_seconds=$(date +%s)\n",
    "            \n",
    "            # Calculate age in days\n",
    "            age_days=$(( ($current_date_seconds - $create_date_seconds) / 86400 ))\n",
    "            \n",
    "            # Delete if older than threshold\n",
    "            if [ $age_days -gt $deletion_threshold ]; then\n",
    "                echo \"Deleting old clone: $cluster_id (age: $age_days days)\"\n",
    "                aws rds delete-db-cluster \\\n",
    "                    --db-cluster-identifier \"$cluster_id\" \\\n",
    "                    --skip-final-snapshot\n",
    "            fi\n",
    "        fi\n",
    "    done <<< \"$clusters\"\n",
    "}\n",
    "\n",
    "# Function to tag clone resources\n",
    "tag_clone_resources() {\n",
    "    echo \"Tagging clone resources...\"\n",
    "    \n",
    "    # Get the ARN of the cluster\n",
    "    cluster_arn=$(aws rds describe-db-clusters \\\n",
    "        --db-cluster-identifier \"$clone_cluster_id\" \\\n",
    "        --query 'DBClusters[0].DBClusterArn' \\\n",
    "        --output text)\n",
    "    \n",
    "    # Add tags to the cluster\n",
    "    aws rds add-tags-to-resource \\\n",
    "        --resource-name \"$cluster_arn\" \\\n",
    "        --tags \\\n",
    "        \"Key=Environment,Value=Test\" \\\n",
    "        \"Key=CreatedDate,Value=$current_date\" \\\n",
    "        \"Key=AutoDelete,Value=True\" \\\n",
    "        \"Key=CreationSource,Value=aws-database-cookbook-v2025.8\"\n",
    "}\n",
    "\n",
    "# Main execution\n",
    "if [ -z \"$clone_cluster_id\" ]; then\n",
    "    echo \"Error: Clone cluster ID not provided\"\n",
    "    echo \"Usage: $0 <clone-cluster-id>\"\n",
    "    exit 1\n",
    "fi\n",
    "\n",
    "# Execute the functions\n",
    "cleanup_old_clones\n",
    "tag_clone_resources\n",
    "\n",
    "echo \"Clone management completed successfully\""
   ]
  },
  {
   "cell_type": "markdown",
   "metadata": {},
   "source": [
    "## Next Steps 🚀\n",
    "\n",
    "Congratulations! You've completed the Operational Excellence section and mastered Aurora cloning for testing and development. Now it's time to scale your Aurora infrastructure:\n",
    "\n",
    "1. **Scale Your Aurora Infrastructure**\n",
    "   - Learn advanced scaling strategies in [Section 5: Scaling for Success - Growing with Aurora](../../5_Scaling_for_Success_Growing_with_Aurora/README.md)\n",
    "   - Implement vertical and horizontal scaling techniques\n",
    "\n",
    "2. **Implement Read Replicas**\n",
    "   - Set up read replicas for load distribution in [5.2 Implementing Read Replicas](../../5_Scaling_for_Success_Growing_with_Aurora/5.2_Implementing_Read_Replicas/README.md)\n",
    "   - Learn connection routing and load balancing\n",
    "\n",
    "3. **Advanced Scaling Strategies**\n",
    "   - Explore Aurora Serverless v2 and auto-scaling features\n",
    "   - Implement global database deployments for worldwide scale\n",
    "\n",
    "Continue to [Section 5: Scaling for Success - Growing with Aurora](../../5_Scaling_for_Success_Growing_with_Aurora/README.md) to learn how to scale your Aurora infrastructure for production workloads!\n"
   ]
  },
  {
   "cell_type": "markdown",
   "metadata": {},
   "source": [
    "## Additional Resources 📚\n",
    "\n",
    "### Aurora Cloning\n",
    "- [Aurora Cloning Documentation](https://docs.aws.amazon.com/AmazonRDS/latest/AuroraUserGuide/Aurora.Managing.Clone.html)\n",
    "- [Aurora Clone Best Practices](https://docs.aws.amazon.com/AmazonRDS/latest/AuroraUserGuide/Aurora.BestPractices.html)\n",
    "- [Copy-on-Write Technology](https://docs.aws.amazon.com/AmazonRDS/latest/AuroraUserGuide/Aurora.Managing.Clone.html#Aurora.Managing.Clone.Protocol)\n",
    "\n",
    "### Testing & Development\n",
    "- [Database Testing Strategies](https://docs.aws.amazon.com/wellarchitected/latest/reliability-pillar/test-reliability.html)\n",
    "- [Aurora Performance Testing](https://docs.aws.amazon.com/AmazonRDS/latest/AuroraUserGuide/Aurora.Managing.Performance.html)\n",
    "- [Development Environment Best Practices](https://docs.aws.amazon.com/whitepapers/latest/development-test-on-aws/development-test-on-aws.html)\n",
    "\n",
    "### Cost Management\n",
    "- [Aurora Cost Optimization](https://docs.aws.amazon.com/AmazonRDS/latest/AuroraUserGuide/Aurora.Managing.html)\n",
    "- [Resource Tagging Strategies](https://docs.aws.amazon.com/general/latest/gr/aws_tagging.html)\n",
    "- [AWS Cost Management](https://docs.aws.amazon.com/awsaccountbilling/latest/aboutv2/cost-alloc-tags.html)"
   ]
  }
 ],
 "metadata": {
  "kernelspec": {
   "display_name": "Python 3",
   "language": "python",
   "name": "python3"
  },
  "language_info": {
   "codemirror_mode": {
    "name": "ipython",
    "version": 3
   },
   "file_extension": ".py",
   "mimetype": "text/x-python",
   "name": "python",
   "nbconvert_exporter": "python",
   "pygments_lexer": "ipython3",
   "version": "3.8.0"
  }
 },
 "nbformat": 4,
 "nbformat_minor": 5
}

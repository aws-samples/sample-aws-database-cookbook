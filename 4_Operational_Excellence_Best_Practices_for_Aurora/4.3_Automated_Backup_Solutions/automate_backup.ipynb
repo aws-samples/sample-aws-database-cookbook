{
 "cells": [
  {
   "cell_type": "markdown",
   "metadata": {},
   "source": [
    "# Aurora Automated Backup Solutions Setup\n",
    "\n",
    "<div style=\"background-color: #f8f9fa; border: 1px solid #e9ecef; border-radius: 8px; padding: 10px; margin: 10px;\">\n",
    "<strong>📋 Workshop Contents</strong>\n",
    "<ul style=\"line-height: 1.2;\">\n",
    "<li><a href=\"#Prerequisites\">Prerequisites</a></li>\n",
    "<li><a href=\"#Setting-up-the-environment-and-required-libraries\">Setting up the environment and required libraries</a></li>\n",
    "<li><a href=\"#1-Configuring-Automated-Snapshots\">1. Configuring Automated Snapshots</a></li>\n",
    "</ul>\n",
    "</div>\n",
    "\n",
    "## Prerequisites\n",
    "\n",
    "Before starting this workshop, ensure you have:\n",
    "\n",
    "- ✅ **Jupyter Notebook**: You can launch a [free tier Amazon SageMaker Jupyter Notebook](../../1_Getting_Started_with_AWS/1.4_Setting_up_Your_Cookbook_Environment/README.MD)\n",
    "- ✅ **Aurora PostgreSQL Cluster**: An active Aurora PostgreSQL cluster running in your AWS account\n",
    "  - If you don't have one, follow the setup guide: [Your First Database on AWS](../../2_Your_First_Database_on_AWS/README.MD)\n",
    "- ✅ **AWS CLI configured** with appropriate permissions for RDS operations\n",
    "- ✅ **IAM permissions** for:\n",
    "  - RDS cluster and instance modifications\n",
    "  - Snapshot creation and management\n",
    "  - Cross-region operations (if applicable)\n",
    "\n",
    "> 💡 **Note**: Aurora Backtrack is only available for Aurora MySQL. For Aurora PostgreSQL, use point-in-time recovery instead.\n"
   ]
  },
  {
   "cell_type": "markdown",
   "metadata": {},
   "source": [
    "## 1. Configuring Automated Snapshots\n",
    "\n",
    "Configure automated snapshot settings for Aurora clusters including backup retention period and preferred backup window for optimal performance impact. The configuration modifies cluster settings to enable automatic daily snapshots with customizable retention policies and returns cluster modification response."
   ]
  },
  {
   "cell_type": "code",
   "execution_count": null,
   "metadata": {
    "vscode": {
     "languageId": "shellscript"
    }
   },
   "outputs": [],
   "source": [
    "%%bash\n",
    "\n",
    "# Configuration variables\n",
    "CLUSTER_IDENTIFIER=\"<cluster-indentifier>\"\n",
    "BACKUP_RETENTION_PERIOD=7\n",
    "PREFERRED_BACKUP_WINDOW=\"03:00-04:00\"\n",
    "\n",
    "# Function to configure automated snapshots\n",
    "configure_snapshots() {\n",
    "    local cluster_id=$1\n",
    "    local retention_period=$2\n",
    "    local backup_window=$3\n",
    "\n",
    "    echo \"Configuring automated snapshots...\"\n",
    "    echo \"Cluster: ${cluster_id}\"\n",
    "    echo \"Retention Period: ${retention_period} days\"\n",
    "    echo \"Backup Window: ${backup_window} UTC\"\n",
    "\n",
    "    if ! aws rds modify-db-cluster \\\n",
    "        --db-cluster-identifier ${cluster_id} \\\n",
    "        --backup-retention-period ${retention_period} \\\n",
    "        --preferred-backup-window \"${backup_window}\" \\\n",
    "        --apply-immediately; then\n",
    "        return 1\n",
    "    fi\n",
    "    return 0\n",
    "}\n",
    "\n",
    "# Execute configuration with error handling\n",
    "if configure_snapshots \"${CLUSTER_IDENTIFIER}\" \"${BACKUP_RETENTION_PERIOD}\" \"${PREFERRED_BACKUP_WINDOW}\"; then\n",
    "    echo \"Successfully configured automated snapshots\"\n",
    "else\n",
    "    echo \"Failed to configure automated snapshots\"\n",
    "    exit 1\n",
    "fi"
   ]
  },
  {
   "cell_type": "markdown",
   "id": "39df2ea5",
   "metadata": {},
   "source": [
    "## Next Steps 🚀\n",
    "\n",
    "Now that you've implemented comprehensive backup solutions for your Aurora cluster, continue building operational excellence with these next steps:\n",
    "\n",
    "1. **Optimize Database Performance**\n",
    "   - Use performance optimization tools in [4.4 Performance Optimization Tools](../4.4_Performance_Optimization_Tools/performance_optimization.ipynb)\n",
    "   - Learn query optimization and resource tuning techniques\n",
    "\n",
    "2. **Set Up Development and Testing Environments**\n",
    "   - Implement Aurora cloning for testing in [4.5 Aurora Cloning for Testing and Development](../4.5_Aurora_Cloning_for_Testing_and_Development/aurora_cloning_testing_devlop.ipynb)\n",
    "   - Create isolated environments for safe testing and development\n",
    "\n",
    "3. **Scale Your Aurora Infrastructure**\n",
    "   - Learn advanced scaling strategies in [Section 5: Scaling for Success - Growing with Aurora](../../5_Scaling_for_Success_Growing_with_Aurora/README.md)\n",
    "   - Implement vertical and horizontal scaling techniques\n",
    "\n",
    "Continue to [4.4 Optimize Database Performance](../4.4_Performance_Optimization_Tools/performance_optimization.ipynb).\n"
   ]
  },
  {
   "cell_type": "markdown",
   "metadata": {},
   "source": [
    "## Additional Resources 📚\n",
    "\n",
    "### Aurora Backup Features\n",
    "- [Aurora Backup and Restore](https://docs.aws.amazon.com/AmazonRDS/latest/AuroraUserGuide/Aurora.Managing.Backups.html)\n",
    "- [Aurora Backtrack](https://docs.aws.amazon.com/AmazonRDS/latest/AuroraUserGuide/AuroraMySQL.Managing.Backtrack.html)\n",
    "- [Point-in-Time Recovery](https://docs.aws.amazon.com/AmazonRDS/latest/AuroraUserGuide/Aurora.Managing.Backups.html#Aurora.Managing.Backups.PITR)\n",
    "\n",
    "### Cross-Region & Disaster Recovery\n",
    "- [Aurora Global Database](https://docs.aws.amazon.com/AmazonRDS/latest/AuroraUserGuide/aurora-global-database.html)\n",
    "- [Cross-Region Snapshot Copy](https://docs.aws.amazon.com/AmazonRDS/latest/AuroraUserGuide/USER_CopySnapshot.html)\n",
    "- [Disaster Recovery Best Practices](https://docs.aws.amazon.com/AmazonRDS/latest/AuroraUserGuide/Aurora.BestPractices.html)\n",
    "\n",
    "### Automation & Monitoring\n",
    "- [AWS Backup for RDS](https://docs.aws.amazon.com/aws-backup/latest/devguide/rds-backup.html)\n",
    "- [CloudWatch Backup Metrics](https://docs.aws.amazon.com/AmazonRDS/latest/AuroraUserGuide/MonitoringAurora.html)\n",
    "- [Lambda Automation Examples](https://docs.aws.amazon.com/lambda/latest/dg/services-rds.html)"
   ]
  }
 ],
 "metadata": {
  "kernelspec": {
   "display_name": "Python 3",
   "language": "python",
   "name": "python3"
  },
  "language_info": {
   "codemirror_mode": {
    "name": "ipython",
    "version": 3
   },
   "file_extension": ".py",
   "mimetype": "text/x-python",
   "name": "python",
   "nbconvert_exporter": "python",
   "pygments_lexer": "ipython3",
   "version": "3.9.6"
  }
 },
 "nbformat": 4,
 "nbformat_minor": 5
}

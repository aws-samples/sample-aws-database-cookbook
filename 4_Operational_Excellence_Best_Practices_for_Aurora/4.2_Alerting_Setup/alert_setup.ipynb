{
 "cells": [
  {
   "cell_type": "markdown",
   "id": "c7dd97d1",
   "metadata": {},
   "source": [
    "# CloudWatch Alerting System Setup\n",
    "\n",
    "<div style=\"background-color: #f8f9fa; border: 1px solid #e9ecef; border-radius: 8px; padding: 10px; margin: 10px;\">\n",
    "<strong>📋 Workshop Contents</strong>\n",
    "<ul style=\"line-height: 1.2;\">\n",
    "<li><a href=\"#Prerequisites\">Prerequisites</a></li>\n",
    "<li><a href=\"#Setting-up-the-environment-and-required-libraries\">Setting up the environment and required libraries</a></li>\n",
    "<li><a href=\"#1-Setting-up-SNS-Topic-for-Notifications\">1. Setting up SNS Topic for Notifications</a></li>\n",
    "<li><a href=\"#2-Configuring-CloudWatch-Alarms\">2. Configuring CloudWatch Alarms</a></li>\n",
    "<li><a href=\"#3-Creating-Custom-Alert-Thresholds\">3. Creating Custom Alert Thresholds</a></li>\n",
    "<li><a href=\"#Usage-Example\">Usage Example</a></li>\n",
    "</ul>\n",
    "</div>\n",
    "\n",
    "## Prerequisites\n",
    "\n",
    "Before starting this workshop, ensure you have:\n",
    "\n",
    "- ✅ **Jupyter Notebook**: You can launch a [free tier Amazon SageMaker Jupyter Notebook](../../1_Getting_Started_with_AWS/1.4_Setting_up_Your_Cookbook_Environment/README.MD)\n",
    "- ✅ **Aurora PostgreSQL Cluster**: An active Aurora PostgreSQL cluster running in your AWS account\n",
    "  - If you don't have one, follow the setup guide: [Your First Database on AWS](../../2_Your_First_Database_on_AWS/README.MD)\n",
    "- ✅ **AWS CLI configured** with appropriate permissions for CloudWatch and SNS\n",
    "- ✅ **IAM permissions** for:\n",
    "  - CloudWatch alarms and metrics\n",
    "  - SNS topic creation and management\n",
    "  - Email subscription confirmations\n",
    "\n",
    "> 💡 **Note**: You'll need to confirm email subscriptions to receive alert notifications.\n"
   ]
  },
  {
   "cell_type": "markdown",
   "id": "48db4039",
   "metadata": {},
   "source": [
    "## 1. Setting up SNS Topic for Notifications\n",
    "\n",
    "Create and configure SNS topics for alert notifications to enable automated email alerts when CloudWatch alarms trigger. The create_sns_topic function establishes the notification channel, while subscribe_to_sns_topic adds email subscribers to receive alerts with topic ARN and subscription confirmation responses."
   ]
  },
  {
   "cell_type": "code",
   "execution_count": null,
   "id": "8836f923",
   "metadata": {
    "vscode": {
     "languageId": "shellscript"
    }
   },
   "outputs": [],
   "source": [
    "%%bash\n",
    "\n",
    "# Set your variables\n",
    "TOPIC_NAME=\"your-topic-name\"\n",
    "EMAIL=\"your-email@example.com\"\n",
    "\n",
    "# Create SNS topic\n",
    "if TOPIC_ARN=$(aws sns create-topic --name ${TOPIC_NAME} --tags Key=CreationSource,Value=aws-database-cookbook-v2025.8 --output text --query 'TopicArn'); then\n",
    "    echo \"Successfully created SNS topic: ${TOPIC_ARN}\"\n",
    "else\n",
    "    echo \"Failed to create SNS topic\"\n",
    "    exit 1\n",
    "fi\n",
    "\n",
    "# Subscribe email to the topic\n",
    "if aws sns subscribe \\\n",
    "    --topic-arn ${TOPIC_ARN} \\\n",
    "    --protocol email \\\n",
    "    --notification-endpoint ${EMAIL}; then\n",
    "    echo \"Successfully subscribed ${EMAIL} to the topic\"\n",
    "else\n",
    "    echo \"Failed to subscribe to the topic\"\n",
    "    exit 1\n",
    "fi"
   ]
  },
  {
   "cell_type": "markdown",
   "id": "db7ff501",
   "metadata": {},
   "source": [
    "## 2. Configuring CloudWatch Alarms\n",
    "\n",
    "Create CloudWatch metric alarms with customizable thresholds and comparison operators for comprehensive monitoring. The alarm configuration includes evaluation periods, statistics, and actions to trigger when thresholds are breached with alarm creation response showing metric criteria and notification settings."
   ]
  },
  {
   "cell_type": "code",
   "execution_count": null,
   "id": "7e087487",
   "metadata": {
    "vscode": {
     "languageId": "shellscript"
    }
   },
   "outputs": [],
   "source": [
    "%%bash\n",
    "\n",
    "# Set your variables\n",
    "METRIC_NAME=\"your-metric-name\"\n",
    "NAMESPACE=\"your-namespace\"\n",
    "THRESHOLD=\"your-threshold-value\"\n",
    "COMPARISON_OPERATOR=\"GreaterThanThreshold\"  # Or other operators like LessThanThreshold\n",
    "TOPIC_ARN=\"your-sns-topic-arn\"\n",
    "DIMENSION_NAME=\"DBInstanceIdentifier\"  # Example dimension name\n",
    "DIMENSION_VALUE=\"your-instance-id\"     # Example dimension value\n",
    "\n",
    "# Create CloudWatch Alarm\n",
    "aws cloudwatch put-metric-alarm \\\n",
    "    --alarm-name \"${METRIC_NAME}-Alarm\" \\\n",
    "    --comparison-operator ${COMPARISON_OPERATOR} \\\n",
    "    --evaluation-periods 2 \\\n",
    "    --metric-name ${METRIC_NAME} \\\n",
    "    --namespace ${NAMESPACE} \\\n",
    "    --period 300 \\\n",
    "    --statistic Average \\\n",
    "    --threshold ${THRESHOLD} \\\n",
    "    --actions-enabled \\\n",
    "    --alarm-actions ${TOPIC_ARN} \\\n",
    "    --alarm-description \"Alarm for ${METRIC_NAME}\" \\\n",
    "    --dimensions \"Name=${DIMENSION_NAME},Value=${DIMENSION_VALUE}\" \\\n",
    "    --tags Key=CreationSource,Value=aws-database-cookbook-v2025.8"
   ]
  },
  {
   "cell_type": "markdown",
   "id": "f990deaf",
   "metadata": {},
   "source": [
    "## 3. Creating Custom Alert Thresholds\n",
    "\n",
    "Create composite alarms that combine multiple metric conditions using logical operators for sophisticated alerting scenarios. Composite alarms enable complex alert logic by evaluating multiple individual alarms together using AND/OR conditions with composite alarm creation response showing alarm rule logic."
   ]
  },
  {
   "cell_type": "code",
   "execution_count": null,
   "id": "b39f54b5",
   "metadata": {
    "vscode": {
     "languageId": "shellscript"
    }
   },
   "outputs": [],
   "source": [
    "%%bash\n",
    "\n",
    "# Set your variables\n",
    "ALARM_NAME=\"your-composite-alarm-name\"\n",
    "ALARM_RULE=\"ALARM(metric1-Alarm) OR ALARM(metric2-Alarm)\"\n",
    "TOPIC_ARN=\"your-sns-topic-arn\"\n",
    "\n",
    "# Create composite alarm with error checking\n",
    "if aws cloudwatch put-composite-alarm \\\n",
    "    --alarm-name \"${ALARM_NAME}\" \\\n",
    "    --alarm-rule \"${ALARM_RULE}\" \\\n",
    "    --actions-enabled \\\n",
    "    --alarm-actions \"${TOPIC_ARN}\" \\\n",
    "    --alarm-description \"Custom composite alarm: ${ALARM_NAME}\" \\\n",
    "    --tags Key=CreationSource,Value=aws-database-cookbook-v2025.8; then\n",
    "    echo \"Successfully created composite alarm: ${ALARM_NAME}\"\n",
    "else\n",
    "    echo \"Failed to create composite alarm\"\n",
    "    exit 1\n",
    "fi"
   ]
  },
  {
   "cell_type": "markdown",
   "id": "f6326330",
   "metadata": {},
   "source": [
    "## Usage Example\n",
    "\n",
    "Demonstrate setting up a complete alerting system with SNS notifications, individual metric alarms, and composite alarms for advanced monitoring scenarios. The script creates email notifications, configures CPU and memory alerts, and establishes composite alarm logic with confirmation messages for each component."
   ]
  },
  {
   "cell_type": "code",
   "execution_count": null,
   "id": "a7d87b58",
   "metadata": {
    "vscode": {
     "languageId": "shellscript"
    }
   },
   "outputs": [],
   "source": [
    "%%bash\n",
    "\n",
    "# Exit on error\n",
    "set -e\n",
    "\n",
    "# Configuration variables\n",
    "TOPIC_NAME=\"monitoring-alerts\"\n",
    "EMAIL=\"your-email@example.com\"\n",
    "\n",
    "# Create SNS topic\n",
    "echo \"Creating SNS topic...\"\n",
    "if ! TOPIC_ARN=$(aws sns create-topic --name ${TOPIC_NAME} --tags Key=CreationSource,Value=aws-database-cookbook-v2025.8 --output text --query 'TopicArn'); then\n",
    "    echo \"Failed to create SNS topic\"\n",
    "    exit 1\n",
    "fi\n",
    "echo \"Created SNS Topic: ${TOPIC_ARN}\"\n",
    "\n",
    "# Subscribe email\n",
    "echo \"Subscribing email to SNS topic...\"\n",
    "if ! aws sns subscribe \\\n",
    "    --topic-arn ${TOPIC_ARN} \\\n",
    "    --protocol email \\\n",
    "    --notification-endpoint ${EMAIL}; then\n",
    "    echo \"Failed to subscribe email to topic\"\n",
    "    exit 1\n",
    "fi\n",
    "\n",
    "# Define alerts\n",
    "read -r -d '' ALERTS << EOM\n",
    "[\n",
    "  {\n",
    "    \"metric_name\": \"CPUUtilization\",\n",
    "    \"namespace\": \"AWS/EC2\",\n",
    "    \"threshold\": 80,\n",
    "    \"comparison_operator\": \"GreaterThanThreshold\",\n",
    "    \"dimensions\": [{\"Name\": \"InstanceId\", \"Value\": \"i-1234567890abcdef0\"}]\n",
    "  },\n",
    "  {\n",
    "    \"metric_name\": \"MemoryUtilization\",\n",
    "    \"namespace\": \"CustomMetrics\",\n",
    "    \"threshold\": 90,\n",
    "    \"comparison_operator\": \"GreaterThanThreshold\",\n",
    "    \"dimensions\": [{\"Name\": \"ServiceName\", \"Value\": \"MyApp\"}]\n",
    "  }\n",
    "]\n",
    "EOM\n",
    "\n",
    "# Create metric alarms\n",
    "echo \"Creating metric alarms...\"\n",
    "echo \"${ALERTS}\" | jq -c '.[]' | while read -r alert; do\n",
    "    METRIC_NAME=$(echo \"${alert}\" | jq -r '.metric_name')\n",
    "    NAMESPACE=$(echo \"${alert}\" | jq -r '.namespace')\n",
    "    THRESHOLD=$(echo \"${alert}\" | jq -r '.threshold')\n",
    "    COMPARISON_OPERATOR=$(echo \"${alert}\" | jq -r '.comparison_operator')\n",
    "    DIMENSIONS=$(echo \"${alert}\" | jq -r '.dimensions')\n",
    "\n",
    "    if ! aws cloudwatch put-metric-alarm \\\n",
    "        --alarm-name \"${METRIC_NAME}-Alarm\" \\\n",
    "        --comparison-operator ${COMPARISON_OPERATOR} \\\n",
    "        --evaluation-periods 2 \\\n",
    "        --metric-name ${METRIC_NAME} \\\n",
    "        --namespace ${NAMESPACE} \\\n",
    "        --period 300 \\\n",
    "        --statistic Average \\\n",
    "        --threshold ${THRESHOLD} \\\n",
    "        --actions-enabled \\\n",
    "        --alarm-actions ${TOPIC_ARN} \\\n",
    "        --alarm-description \"Alarm for ${METRIC_NAME}\" \\\n",
    "        --dimensions \"${DIMENSIONS}\" \\\n",
    "        --tags Key=CreationSource,Value=aws-database-cookbook-v2025.8; then\n",
    "        echo \"Failed to create alarm for ${METRIC_NAME}\"\n",
    "        exit 1\n",
    "    fi\n",
    "    echo \"Created alarm for ${METRIC_NAME}\"\n",
    "done\n",
    "\n",
    "# Create composite alarm\n",
    "echo \"Creating composite alarm...\"\n",
    "if ! aws cloudwatch put-composite-alarm \\\n",
    "    --alarm-name \"HighLoadCompositeAlarm\" \\\n",
    "    --alarm-rule \"ALARM(CPUUtilization-Alarm) AND ALARM(MemoryUtilization-Alarm)\" \\\n",
    "    --actions-enabled \\\n",
    "    --alarm-actions \"${TOPIC_ARN}\" \\\n",
    "    --alarm-description \"Custom composite alarm: HighLoadCompositeAlarm\" \\\n",
    "    --tags Key=CreationSource,Value=aws-database-cookbook-v2025.8; then\n",
    "    echo \"Failed to create composite alarm\"\n",
    "    exit 1\n",
    "fi\n",
    "\n",
    "echo \"Setup complete!\""
   ]
  },
  {
   "cell_type": "markdown",
   "id": "next-steps",
   "metadata": {},
   "source": [
    "## Next Steps 🚀\n",
    "\n",
    "Now that you've set up comprehensive alerting for your Aurora cluster, continue building operational excellence with these next steps:\n",
    "\n",
    "1. **Implement Automated Backup Solutions**\n",
    "   - Set up automated backup strategies in [4.3 Automated Backup Solutions](../4.3_Automated_Backup_Solutions/automate_backup.ipynb)\n",
    "   - Configure point-in-time recovery and cross-region backups\n",
    "\n",
    "2. **Optimize Database Performance**\n",
    "   - Use performance optimization tools in [4.4 Performance Optimization Tools](../4.4_Performance_Optimization_Tools/performance_optimization.ipynb)\n",
    "   - Learn query optimization and resource tuning techniques\n",
    "\n",
    "3. **Set Up Development and Testing Environments**\n",
    "   - Implement Aurora cloning for testing in [4.5 Aurora Cloning for Testing and Development](../4.5_Aurora_Cloning_for_Testing_and_Development/aurora_cloning_testing_devlop.ipynb)\n",
    "   - Create isolated environments for safe testing and development\n",
    "\n",
    "Continue to [4.3 Implement Automated Backup Solutions](../4.3_Automated_Backup_Solutions/automate_backup.ipynb).\n"
   ]
  },
  {
   "cell_type": "markdown",
   "id": "additional-resources",
   "metadata": {},
   "source": [
    "## Additional Resources 📚\n",
    "\n",
    "### CloudWatch Alarms\n",
    "- [CloudWatch Alarms Overview](https://docs.aws.amazon.com/AmazonCloudWatch/latest/monitoring/AlarmThatSendsEmail.html)\n",
    "- [Composite Alarms](https://docs.aws.amazon.com/AmazonCloudWatch/latest/monitoring/Create_Composite_Alarm.html)\n",
    "- [Alarm Actions](https://docs.aws.amazon.com/AmazonCloudWatch/latest/monitoring/AlarmThatSendsEmail.html#alarms-and-actions)\n",
    "\n",
    "### SNS Notifications\n",
    "- [Amazon SNS Getting Started](https://docs.aws.amazon.com/sns/latest/dg/sns-getting-started.html)\n",
    "- [SNS Email Notifications](https://docs.aws.amazon.com/sns/latest/dg/sns-email-notifications.html)\n",
    "- [SNS Best Practices](https://docs.aws.amazon.com/sns/latest/dg/sns-best-practices.html)\n",
    "\n",
    "### Aurora Specific Monitoring\n",
    "- [Aurora CloudWatch Metrics](https://docs.aws.amazon.com/AmazonRDS/latest/AuroraUserGuide/MonitoringAurora.html)\n",
    "- [Aurora Alerting Best Practices](https://docs.aws.amazon.com/AmazonRDS/latest/AuroraUserGuide/Aurora.BestPractices.html)\n",
    "- [Performance Insights Alarms](https://docs.aws.amazon.com/AmazonRDS/latest/AuroraUserGuide/USER_PerfInsights.html)"
   ]
  }
 ],
 "metadata": {
  "kernelspec": {
   "display_name": "Python 3",
   "language": "python",
   "name": "python3"
  },
  "language_info": {
   "codemirror_mode": {
    "name": "ipython",
    "version": 3
   },
   "file_extension": ".py",
   "mimetype": "text/x-python",
   "name": "python",
   "nbconvert_exporter": "python",
   "pygments_lexer": "ipython3",
   "version": "3.9.6"
  }
 },
 "nbformat": 4,
 "nbformat_minor": 5
}

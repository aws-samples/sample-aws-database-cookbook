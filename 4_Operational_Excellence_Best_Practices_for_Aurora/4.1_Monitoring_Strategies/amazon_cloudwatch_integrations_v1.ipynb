{
 "cells": [
  {
   "cell_type": "markdown",
   "metadata": {},
   "source": [
    "# Amazon Aurora CloudWatch Integration Tutorial\n",
    "\n",
    "<div style=\"background-color: #f8f9fa; border: 1px solid #e9ecef; border-radius: 8px; padding: 10px; margin: 10px;\">\n",
    "<strong>📋 Workshop Contents</strong>\n",
    "<ul style=\"line-height: 1.2;\">\n",
    "<li><a href=\"#Prerequisites\">Prerequisites</a></li>\n",
    "<li><a href=\"#Setting-up-the-environment-and-required-libraries\">Setting up the environment and required libraries</a></li>\n",
    "<li><a href=\"#1-Setting-up-Custom-Metrics\">1. Setting up Custom Metrics</a></li>\n",
    "<li><a href=\"#2-Creating-CloudWatch-Dashboard\">2. Creating CloudWatch Dashboard</a></li>\n",
    "<li><a href=\"#3-Configuring-Log-Streams\">3. Configuring Log Streams</a></li>\n",
    "<li><a href=\"#4-Enhanced-Monitoring-Setup\">4. Enhanced Monitoring Setup</a></li>\n",
    "<li><a href=\"#5-Get-Enhanced-Monitoring-Metrics\">5. Get Enhanced Monitoring Metrics</a></li>\n",
    "<li><a href=\"#Usage-Example\">Usage Example</a></li>\n",
    "</ul>\n",
    "</div>\n",
    "\n",
    "## Prerequisites\n",
    "\n",
    "Before starting this workshop, ensure you have:\n",
    "\n",
    "- ✅ **Jupyter Notebook**: You can launch a [free tier Amazon SageMaker Jupyter Notebook](../../1_Getting_Started_with_AWS/1.4_Setting_up_Your_Cookbook_Environment/README.MD)\n",
    "- ✅ **Aurora PostgreSQL Cluster**: An active Aurora PostgreSQL cluster running in your AWS account\n",
    "  - If you don't have one, follow the setup guide: [Your First Database on AWS](../../2_Your_First_Database_on_AWS/README.MD)\n",
    "- ✅ **AWS CLI configured** with appropriate permissions for RDS and CloudWatch\n",
    "- ✅ **IAM permissions** for:\n",
    "  - CloudWatch metrics and dashboards\n",
    "  - Aurora monitoring and modification\n",
    "  - Enhanced Monitoring role creation\n",
    "\n",
    "> 💡 **Note**: This workshop uses Aurora PostgreSQL examples, but the monitoring concepts apply to Aurora MySQL as well.\n",
    "\n",
    "## Setting up the environment and required libraries\n",
    "\n",
    "Initialize required AWS clients for CloudWatch and Aurora operations like AWS SDK functionality, pandas for data manipulation, and datetime for time-based operations. The AWS clients will be initialized for CloudWatch metrics and Aurora PostgreSQL management."
   ]
  },
  {
   "cell_type": "code",
   "execution_count": null,
   "metadata": {},
   "outputs": [],
   "source": [
    "# Replace with your Aurora instance identifier\n",
    "CLUSTER_IDENTIFIER='<cluster-identifier>' #use the cluster name created on 2.1.2 section\n",
    "MONITORING_ROLE_ARN='<role-identifier>' #use the role created on 2.1.2 section"
   ]
  },
  {
   "cell_type": "markdown",
   "metadata": {},
   "source": [
    "## 1. Setting up Custom Metrics\n",
    "\n",
    "Create custom CloudWatch metrics for Aurora monitoring to track application-specific metrics alongside standard AWS metrics. The function publishes a custom connection count metric with proper dimensions for database instance identification and returns the metric data structure with publication response."
   ]
  },
  {
   "cell_type": "code",
   "execution_count": null,
   "metadata": {
    "vscode": {
     "languageId": "shellscript"
    }
   },
   "outputs": [],
   "source": [
    "%%bash\n",
    "export CLUSTER_IDENTIFIER='<cluster-identifier>'\n",
    "\n",
    "aws cloudwatch put-metric-data \\\n",
    "    --namespace \"Custom/Aurora\" \\\n",
    "    --metric-data \\\n",
    "    '[{\n",
    "        \"MetricName\": \"CustomConnectionCount\",\n",
    "        \"Value\": 1,\n",
    "        \"Unit\": \"Count\",\n",
    "        \"Dimensions\": [{\n",
    "            \"Name\": \"DBInstanceIdentifier\",\n",
    "            \"Value\": \"'${CLUSTER_IDENTIFIER}'\"\n",
    "        }]\n",
    "    }]'"
   ]
  },
  {
   "cell_type": "markdown",
   "metadata": {},
   "source": [
    "## 2. Creating CloudWatch Dashboard\n",
    "\n",
    "Create a comprehensive CloudWatch dashboard for Aurora instance monitoring that displays key metrics like CPU utilization and memory usage in visual format. The dashboard configuration includes metric specifications, time periods, and regional settings for optimal monitoring with access through the CloudWatch console."
   ]
  },
  {
   "cell_type": "code",
   "execution_count": null,
   "metadata": {
    "vscode": {
     "languageId": "shellscript"
    }
   },
   "outputs": [],
   "source": [
    "%%bash\n",
    "export CLUSTER_IDENTIFIER='<cluster-identifier>'\n",
    "\n",
    "aws cloudwatch put-dashboard \\\n",
    "    --dashboard-name \"Aurora-Dashboard-$CLUSTER_IDENTIFIER\" \\\n",
    "    --dashboard-body \"{\n",
    "        \\\"widgets\\\": [\n",
    "            {\n",
    "                \\\"type\\\": \\\"metric\\\",\n",
    "                \\\"properties\\\": {\n",
    "                    \\\"metrics\\\": [\n",
    "                        [\\\"AWS/RDS\\\", \\\"CPUUtilization\\\", \\\"DBInstanceIdentifier\\\", \\\"${CLUSTER_IDENTIFIER}\\\"],\n",
    "                        [\\\"AWS/RDS\\\", \\\"FreeableMemory\\\", \\\"DBInstanceIdentifier\\\", \\\"${CLUSTER_IDENTIFIER}\\\"]\n",
    "                    ],\n",
    "                    \\\"period\\\": 300,\n",
    "                    \\\"stat\\\": \\\"Average\\\",\n",
    "                    \\\"region\\\": \\\"us-east-1\\\",\n",
    "                    \\\"title\\\": \\\"Aurora Instance Metrics\\\"\n",
    "                }\n",
    "            }\n",
    "        ]\n",
    "    }\""
   ]
  },
  {
   "cell_type": "markdown",
   "metadata": {},
   "source": [
    "## 3. Configuring Log Streams\n",
    "\n",
    "Enable CloudWatch log exports for Aurora to stream database logs including error, general, slow query, and audit logs to CloudWatch for centralized monitoring and analysis. The configuration modifies the DB instance to export specified log types automatically with confirmation response. That example is focused on Aurora PostgreSQL cluster, for another engine types look: https://docs.aws.amazon.com/cli/latest/reference/rds/modify-db-cluster.html"
   ]
  },
  {
   "cell_type": "code",
   "execution_count": null,
   "metadata": {
    "vscode": {
     "languageId": "shellscript"
    }
   },
   "outputs": [],
   "source": [
    "%%bash\n",
    "echo \"Configuring Log Export...\"\n",
    "export CLUSTER_IDENTIFIER='<cluster-identifier>'\n",
    "export MONITORING_ROLE_ARN='<monitoring-role>'\n",
    "\n",
    "aws rds modify-db-cluster \\\n",
    "    --db-cluster-identifier $CLUSTER_IDENTIFIER \\\n",
    "    --cloudwatch-logs-export-configuration '{\"EnableLogTypes\":[\"instance\",\"postgresql\"]}'"
   ]
  },
  {
   "cell_type": "markdown",
   "metadata": {},
   "source": [
    "## 4. Enhanced Monitoring Setup\n",
    "\n",
    "Enable Enhanced Monitoring for Aurora instances to provide detailed operating system metrics at 60-second intervals through a dedicated monitoring role. Enhanced Monitoring offers deeper insights into database performance including process lists, memory usage, and I/O statistics with configuration response showing interval and role ARN."
   ]
  },
  {
   "cell_type": "code",
   "execution_count": null,
   "metadata": {
    "vscode": {
     "languageId": "shellscript"
    }
   },
   "outputs": [],
   "source": [
    "%%bash\n",
    "echo \"Configuring Enhaced Monitoring settings...\"\n",
    "export CLUSTER_IDENTIFIER='<cluster-identifier>'\n",
    "export MONITORING_ROLE_ARN='<monitoring-role>'\n",
    "\n",
    "aws rds modify-db-cluster \\\n",
    "    --db-cluster-identifier ${CLUSTER_IDENTIFIER} \\\n",
    "    --monitoring-interval 60 \\\n",
    "    --monitoring-role-arn ${MONITORING_ROLE_ARN}"
   ]
  },
  {
   "cell_type": "markdown",
   "metadata": {},
   "source": [
    "## 5. Get Enhanced Monitoring Metrics\n",
    "\n",
    "Retrieve Enhanced Monitoring metrics from CloudWatch focusing on OS-level process information for detailed performance analysis. The query fetches metrics over the past hour with 60-second granularity to provide comprehensive system insights and returns metric statistics with process list data."
   ]
  },
  {
   "cell_type": "code",
   "execution_count": null,
   "metadata": {
    "vscode": {
     "languageId": "shellscript"
    }
   },
   "outputs": [],
   "source": [
    "%%bash\n",
    "echo \"Getting Enhaced Monitoring metrics...\"\n",
    "\n",
    "export CLUSTER_IDENTIFIER='<cluster-identifier>'\n",
    "\n",
    "# Calculate time stamps (1 hour ago to now)\n",
    "END_TIME=$(date -u +\"%Y-%m-%dT%H:%M:%SZ\")\n",
    "START_TIME=$(date -u -v-1H +\"%Y-%m-%dT%H:%M:%SZ\")  # For macOS\n",
    "# For Linux use: START_TIME=$(date -u -d '1 hour ago' +\"%Y-%m-%dT%H:%M:%SZ\")\n",
    "\n",
    "aws cloudwatch get-metric-statistics \\\n",
    "    --namespace \"AWS/RDS\" \\\n",
    "    --metric-name \"OSMemoryTotal\" \\\n",
    "    --dimensions Name=DBClusterIdentifier,Value=${CLUSTER_IDENTIFIER} \\\n",
    "    --start-time ${START_TIME} \\\n",
    "    --end-time ${END_TIME} \\\n",
    "    --period 60 \\\n",
    "    --statistics Average"
   ]
  },
  {
   "cell_type": "markdown",
   "id": "aa03ee09",
   "metadata": {},
   "source": [
    "## Next Steps 🚀\n",
    "\n",
    "Now that you've set up comprehensive monitoring for your Aurora cluster, continue building operational excellence with these next steps:\n",
    "\n",
    "1. **Set Up Alerting and Notifications**\n",
    "   - Configure CloudWatch alarms for critical metrics in [4.2 Alerting Setup](../4.2_Alerting_Setup/alert_setup.ipynb)\n",
    "   - Learn how to create proactive monitoring and incident response\n",
    "\n",
    "2. **Implement Automated Backup Solutions**\n",
    "   - Set up automated backup strategies in [4.3 Automated Backup Solutions](../4.3_Automated_Backup_Solutions/automate_backup.ipynb)\n",
    "   - Configure point-in-time recovery and cross-region backups\n",
    "\n",
    "3. **Optimize Database Performance**\n",
    "   - Use performance optimization tools in [4.4 Performance Optimization Tools](../4.4_Performance_Optimization_Tools/performance_optimization.ipynb)\n",
    "   - Learn query optimization and resource tuning techniques\n",
    "\n",
    "4. **Set Up Development and Testing Environments**\n",
    "   - Implement Aurora cloning for testing in [4.5 Aurora Cloning for Testing and Development](../4.5_Aurora_Cloning_for_Testing_and_Development/aurora_cloning_testing_devlop.ipynb)\n",
    "   - Create isolated environments for safe testing and development\n",
    "\n",
    "Continue to [4.2 Set Up Alerting and Notifications](../4.2_Alerting_Setup/alert_setup.ipynb).\n"
   ]
  },
  {
   "cell_type": "markdown",
   "metadata": {},
   "source": [
    "## Additional Resources 📚\n",
    "\n",
    "### CloudWatch Integration\n",
    "- [CloudWatch Metrics for Aurora](https://docs.aws.amazon.com/AmazonRDS/latest/AuroraUserGuide/MonitoringAurora.html)\n",
    "- [Enhanced Monitoring](https://docs.aws.amazon.com/AmazonRDS/latest/AuroraUserGuide/USER_Monitoring.OS.html)\n",
    "- [CloudWatch Dashboards](https://docs.aws.amazon.com/AmazonCloudWatch/latest/monitoring/CloudWatch_Dashboards.html)\n",
    "\n",
    "### Logging & Analysis\n",
    "- [Aurora Log Types](https://docs.aws.amazon.com/AmazonRDS/latest/AuroraUserGuide/USER_LogAccess.html)\n",
    "- [CloudWatch Logs](https://docs.aws.amazon.com/AmazonCloudWatch/latest/logs/WhatIsCloudWatchLogs.html)\n",
    "- [Log Analysis Best Practices](https://docs.aws.amazon.com/AmazonCloudWatch/latest/logs/AnalyzingLogData.html)\n",
    "\n",
    "### Performance Monitoring\n",
    "- [Performance Insights](https://docs.aws.amazon.com/AmazonRDS/latest/AuroraUserGuide/USER_PerfInsights.html)\n",
    "- [Aurora Monitoring Best Practices](https://docs.aws.amazon.com/AmazonRDS/latest/AuroraUserGuide/Aurora.BestPractices.html)\n",
    "- [Custom Metrics Guide](https://docs.aws.amazon.com/AmazonCloudWatch/latest/monitoring/publishingMetrics.html)"
   ]
  }
 ],
 "metadata": {
  "kernelspec": {
   "display_name": "Python 3",
   "language": "python",
   "name": "python3"
  },
  "language_info": {
   "codemirror_mode": {
    "name": "ipython",
    "version": 3
   },
   "file_extension": ".py",
   "mimetype": "text/x-python",
   "name": "python",
   "nbconvert_exporter": "python",
   "pygments_lexer": "ipython3",
   "version": "3.9.6"
  }
 },
 "nbformat": 4,
 "nbformat_minor": 5
}

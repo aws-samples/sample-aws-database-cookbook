{
 "cells": [
  {
   "cell_type": "markdown",
   "metadata": {},
   "source": [
    "# How to Optimize Amazon DocumentDB (with MongoDB Compatibility) Performance\n",
    "\n",
    "Amazon DocumentDB (with MongoDB compatibility) is designed to provide scalable, highly available document storage. However, like any database service, performance tuning is key to meeting your application's growing demands efficiently. In this blog post, we’ll cover essential techniques to optimize DocumentDB performance based on AWS best practices, including how to use diagnostic tools effectively."
   ]
  },
  {
   "cell_type": "markdown",
   "metadata": {},
   "source": [
    "## 1. Right-Size Your Instances and Clusters\n",
    "\n",
    "Choosing the correct instance size is one of the most important performance levers in DocumentDB.\n",
    "\n",
    "**Best Practices:**\n",
    "- **Start with smaller instance types** during development and scale up based on workload requirements.\n",
    "- **Monitor CPU utilization**: If CPU utilization exceeds 80% consistently, consider scaling up to a larger instance type.\n",
    "- **Check IOPS usage**: If you're consistently throttling on IOPS, a larger instance might help as they provide more network and storage throughput.\n",
    "\n",
    "**Key Metrics to Watch ([CloudWatch](https://docs.aws.amazon.com/documentdb/latest/developerguide/cloud_watch.html)):**\n",
    "- `CPUUtilization`\n",
    "- `FreeableMemory`\n",
    "- `ReadLatency`, `WriteLatency`\n",
    "- `DatabaseConnections`\n",
    "\n",
    "> 🛠️ **Tip:** Over-provisioning resources can be expensive. Always scale based on monitored metrics, not assumptions."
   ]
  },
  {
   "cell_type": "markdown",
   "metadata": {},
   "source": [
    "## 2. Use Amazon DocumentDB Diagnostic Tools\n",
    "\n",
    "AWS provides built-in diagnostic tools to help you troubleshoot and optimize performance.\n",
    "\n",
    "**Diagnostic Tools:**\n",
    "- **[Performance Insights](https://docs.aws.amazon.com/documentdb/latest/developerguide/performance-insights.html)**: Provides an easy-to-understand dashboard showing database load and query bottlenecks.\n",
    "- **[Profiling and Slow Query Logs](https://docs.aws.amazon.com/documentdb/latest/developerguide/profiling.html)**: Enables you to capture slow operations and analyze why they are slow.\n",
    "- **[Event Monitoring](https://docs.aws.amazon.com/documentdb/latest/developerguide/monitoring_docdb.html)**: Captures events like failovers or backup completions, useful for root cause analysis.\n",
    "\n",
    "**How to Use Slow Query Logs:**\n",
    "1. Enable profiler by setting `profilingLevel`:\n",
    "    ```javascript\n",
    "    db.setProfilingLevel(1, { slowms: 100 })\n",
    "    ```\n",
    "2. Analyze slow queries with:\n",
    "    ```javascript\n",
    "    db.system.profile.find().sort({ ts: -1 }).limit(5)\n",
    "    ```\n",
    "\n",
    "> 💡 **Tip:** Always review logs after changes or scaling operations to ensure new bottlenecks are not introduced."
   ]
  },
  {
   "cell_type": "markdown",
   "metadata": {},
   "source": [
    "## 3. Optimize Your Indexing Strategy\n",
    "\n",
    "Indexes are critical to fast query performance in DocumentDB. Without the right indexes, even simple queries can slow down.\n",
    "\n",
    "**Best Practices:**\n",
    "- **Create indexes** on fields that are frequently used in query filters (`find`, `aggregate`, `update`, etc.).\n",
    "- **Use compound indexes** when querying multiple fields together to optimize retrieval.\n",
    "- **Drop unused indexes**: Unused indexes consume resources and slow down write operations."
   ]
  },
  {
   "cell_type": "code",
   "execution_count": null,
   "metadata": {},
   "outputs": [],
   "source": [
    "\n",
    "db.orders.createIndex({ customerId: 1, orderDate: -1 })"
   ]
  },
  {
   "cell_type": "markdown",
   "metadata": {},
   "source": [
    "\n",
    "**Links to Documentation:**\n",
    "- [Amazon DocumentDB Indexing Overview](https://docs.aws.amazon.com/documentdb/latest/developerguide/indexes.html)\n",
    "- [Index Best Practices](https://docs.aws.amazon.com/documentdb/latest/developerguide/best_practices-indexes.html)\n",
    "- [Query Planning with explain()](https://docs.aws.amazon.com/documentdb/latest/developerguide/profiling.html#profiling_explain)\n",
    "\n",
    "> 🔍 **Tip:** Use `explain()` to analyze your query execution plans and verify your indexes are being used properly:"
   ]
  },
  {
   "cell_type": "code",
   "execution_count": null,
   "metadata": {
    "vscode": {
     "languageId": "javascript"
    }
   },
   "outputs": [],
   "source": [
    "db.orders.find({ customerId: \"12345\" }).explain()"
   ]
  },
  {
   "cell_type": "markdown",
   "metadata": {},
   "source": [
    "## 4. Use Read Replicas for Scaling Reads\n",
    "\n",
    "Amazon DocumentDB supports up to 15 read replicas per cluster. If your application is read-heavy, distribute read traffic across replicas to improve performance and scalability.\n",
    "\n",
    "**Best Practices:**\n",
    "- Route read-only queries to replicas.\n",
    "- Monitor replica lag using CloudWatch (`ReplicaLag` metric).\n",
    "- Use connection string options to direct read preferences.\n",
    "\n",
    "**Example (Connection String Option):**\n",
    "```plaintext\n",
    "mongodb://<username>:<password>@<cluster-endpoint>:27017/?readPreference=secondaryPreferred\n"
   ]
  }
 ],
 "metadata": {
  "language_info": {
   "name": "python"
  }
 },
 "nbformat": 4,
 "nbformat_minor": 2
}

{
 "cells": [
  {
   "cell_type": "markdown",
   "id": "aa6bf37b",
   "metadata": {},
   "source": [
    "# PostgreSQL to Aurora DSQL Migration Guide\n",
    "\n",
    "<div style=\"background-color: #f8f9fa; border: 1px solid #e9ecef; border-radius: 8px; padding: 10px; margin: 10px;\">\n",
    "<strong>📋 Workshop Contents</strong>\n",
    "<ul style=\"line-height: 1.2;\">\n",
    "<li><a href=\"#Introduction\">Introduction</a></li>\n",
    "<li><a href=\"#Migration-Options\">Migration Options</a></li>\n",
    "<li><a href=\"#Option-1-AWS-Glue-Migration-Path\">Option 1: AWS Glue Migration Path</a></li>\n",
    "<li><a href=\"#Option-2-DMS-with-Kinesis-Integration\">Option 2: DMS with Kinesis Integration</a></li>\n",
    "<li><a href=\"#Migration-Approach-Comparison\">Migration Approach Comparison</a></li>\n",
    "<li><a href=\"#Selecting-the-appropriate-migration-path\">Selecting the appropriate migration path</a></li>\n",
    "<li><a href=\"#Evaluating-Aurora-DSQL-for-Your-Workloads\">Evaluating Aurora DSQL for Your Workloads</a></li>\n",
    "</ul>\n",
    "</div>\n",
    "\n",
    "## Introduction\n",
    "\n",
    "As organizations scale their operations, they often face challenges with traditional database architectures, particularly when requiring multi-region presence with strong consistency. Amazon Aurora Distributed SQL (DSQL) addresses these challenges by providing a distributed SQL database that offers:\n",
    "\n",
    "- Active-active multi-region capability\n",
    "- Automatic and continuous scaling of reads and writes\n",
    "- Strong consistency across all regions\n",
    "- PostgreSQL compatibility\n",
    "- Serverless infrastructure\n",
    "- Built-in fault tolerance\n",
    "- Independent scaling of compute and storage\n",
    "\n",
    "For organizations currently using RDS PostgreSQL, Aurora PostgreSQL, or self-hosted PostgreSQL databases, migrating to Aurora DSQL can provide these advanced capabilities while maintaining PostgreSQL compatibility. This enables you to scale your database operations globally without compromising on consistency or performance.\n",
    "\n",
    "### Why Consider Aurora DSQL?\n",
    "\n",
    "- **Global Scale**: Automatically scales reads, writes, compute, and storage independently\n",
    "- **High Availability**: 99.99% availability for single-region clusters (replicated across 3 AZs) and 99.999% for multi-region deployments with region-level fault tolerance\n",
    "- **Active-Active Architecture**: Supports active-active configurations in both single and multi-region clusters with two regional endpoints for reads and writes\n",
    "- **Strong Consistency**: Strongly consistent reads and writes across all regional endpoints with witness region for write quorum and network partition handling\n",
    "- **Simplified Management**: Eliminates the need for manual sharding or complex replication setups\n",
    "- **Cost Efficiency**: Pay-as-you-go pricing model with serverless infrastructure\n",
    "- **Security**: Built-in encryption, authentication, and authorization capabilities"
   ]
  },
  {
   "cell_type": "markdown",
   "id": "de63e8fa",
   "metadata": {},
   "source": [
    "This guide outlines the available options for migrating from PostgreSQL (RDS PostgreSQL, Aurora PostgreSQL, or self-hosted PostgreSQL) to Amazon Aurora DSQL. Each migration path has its own characteristics, benefits, and considerations that should be carefully evaluated based on your specific requirements."
   ]
  },
  {
   "cell_type": "markdown",
   "id": "ba0bd29d",
   "metadata": {},
   "source": [
    "<div style=\"padding: 15px; background-color: #e6f7e6; border-left: 5px solid #28a745; margin-bottom: 10px;\">\n",
    "<strong>Advanced Application:</strong> You can also enhance the serverless web application you built in <a href=\"../../3_Building_Your_First_Serverless_Web_App_with_Aurora/\">Module 3: Building Your First Serverless Web App with Aurora</a> by replacing the Aurora database with Aurora DSQL. This upgrade would transform your application into a multi-region resilient system that can withstand regional failures while maintaining data consistency across regions. Aurora DSQL's active-active architecture ensures your application remains available even if an entire AWS region experiences an outage.\n",
    "</div>\n"
   ]
  },
  {
   "cell_type": "markdown",
   "id": "6236ffd4",
   "metadata": {},
   "source": [
    "## Migration Options"
   ]
  },
  {
   "cell_type": "markdown",
   "id": "2a0a4f62",
   "metadata": {},
   "source": [
    "> **Note:** If you're interested in creating an Aurora DSQL cluster before proceeding with migration, follow the instructions in [Create a multi-region Aurora DSQL cluster](./5.3.3_Create_Aurora-DSQL.ipynb). Once you have created a cluster, you can return to this section and continue with the migration options. If you're only reading through the material, you can skip the DSQL creation steps and proceed directly with the migration options.\n",
    "\n",
    "### Option 1: AWS Glue Migration Path\n",
    "\n",
    "\n",
    "AWS Glue provides a serverless ETL (Extract, Transform, Load) solution for migrating your PostgreSQL database to Aurora DSQL. This approach leverages AWS's managed services to handle large-scale data migrations with minimal infrastructure management.\n",
    "\n",
    "![rds-dsql-migration-1.png](../images/5.3-rds-to-dsql-migration-step-1.png)\n",
    "\n",
    "#### How It Works\n",
    "The migration process follows these steps:\n",
    "1. The source PostgreSQL database snapshot is exported to Amazon S3 in Parquet format\n",
    "2. AWS Glue crawlers scan the Parquet files to create a schema in the Glue Data Catalog\n",
    "3. A PySpark-based Glue ETL job processes the data and loads it into Aurora DSQL\n",
    "4. Data type conversions and transformations are handled within the Glue job\n",
    "\n",
    "#### Detailed Process\n",
    "- **Snapshot Export**: \n",
    "  - Utilizes RDS/Aurora native snapshot export functionality\n",
    "  - Data is automatically converted to Parquet format\n",
    "  - Maintains data consistency through atomic snapshot\n",
    "  \n",
    "- **Schema Discovery**:\n",
    "  - Glue crawlers automatically detect data structure\n",
    "  - Creates table definitions in Glue Data Catalog\n",
    "  - Preserves metadata information\n",
    "\n",
    "- **Data Processing**:\n",
    "  - Parallel processing across multiple Glue workers\n",
    "  - Custom transformation logic can be implemented\n",
    "  - Handles data type mappings and conversions\n",
    "\n"
   ]
  },
  {
   "cell_type": "markdown",
   "id": "53ac71b0",
   "metadata": {},
   "source": [
    "### Option 2: DMS with Kinesis Integration\n",
    "\n",
    "\n",
    "This approach combines AWS Database Migration Service (DMS) with Kinesis Data Streams to provide a real-time migration path to Aurora DSQL. It's particularly useful when continuous data replication is required during the migration process.\n",
    "\n",
    "![rds-dsql-migration-2.png](../images/5.3-rds-to-dsql-migration-step-2.png)\n",
    "\n",
    "#### How It Works\n",
    "The migration process involves:\n",
    "1. DMS reads data from the source PostgreSQL database\n",
    "2. Data is streamed to Kinesis Data Streams\n",
    "3. A custom consumer (Lambda or application) processes the stream\n",
    "4. Processed data is written to Aurora DSQL"
   ]
  },
  {
   "cell_type": "markdown",
   "id": "a9d4886d",
   "metadata": {},
   "source": [
    "## Migration Approach Comparison\n",
    "\n",
    "| Aspect | AWS Glue Migration | DMS with Kinesis |\n",
    "|--------|-------------------|------------------|\n",
    "| Use Case | Batch migration, one-time transfer | Real-time migration, ongoing replication |\n",
    "| Setup Complexity | Medium | High |\n",
    "| Development Effort | PySpark knowledge required | Custom consumer development needed |\n",
    "| Scalability | Glue workers | Kinesis shards |\n",
    "| Cost Model | Pay per ETL runtime | Pay for continuous services |\n",
    "| Real-time Capability | No | Yes |\n",
    "| Data Consistency | Point-in-time snapshot | Continuous replication |"
   ]
  },
  {
   "cell_type": "markdown",
   "id": "8e7d4059",
   "metadata": {},
   "source": [
    "## Selecting the appropriate migration path\n",
    "Choosing the right migration approach depends on various factors including database size, downtime tolerance, and ongoing replication requirements. Both options provide robust paths to Aurora DSQL, but careful planning and testing are essential for successful migration.\n"
   ]
  },
  {
   "cell_type": "markdown",
   "id": "c4f62416",
   "metadata": {},
   "source": [
    "## Evaluating Aurora DSQL for Your Workloads\n",
    "\n",
    "Before migrating to Aurora DSQL, conduct thorough due diligence to ensure it's the right solution for your use case:\n",
    "\n",
    "### Key Considerations\n",
    "\n",
    "- **Compatibility Assessment**: Review the Aurora(https://docs.aws.amazon.com/aurora-dsql/latest/userguide/what-is-aurora-dsql.html) for supported PostgreSQL features and versions\n",
    "- **Feature Limitations**: Verify compatibility with your current PostgreSQL extensions, data types, and operational features\n",
    "- **Migration Tools**: Explore available migration paths (AWS DMS, AWS Glue, snapshot exports) as support is rapidly evolving\n",
    "- **Application Changes**: Evaluate required code modifications to accommodate any behavioral differences\n",
    "- **Cost Analysis**: Compare pricing models between your current solution and Aurora DSQL's serverless model\n",
    "\n",
    "### Migration Readiness\n",
    "\n",
    "Start with a small proof-of-concept migration to validate compatibility and performance before committing to a full migration. Monitor AWS announcements for new migration tools and expanded feature support as this service continues to mature.\n",
    "\n",
    "For detailed comparison on feature compatibility, see Aurora(https://docs.aws.amazon.com/aurora-dsql/latest/userguide/working-with.html)."
   ]
  },
  {
   "cell_type": "markdown",
   "id": "b1590ca4",
   "metadata": {},
   "source": [
    "### Additional Learning Resources\n",
    "\n",
    "For those interested in gaining deeper knowledge about Aurora DSQL and hands-on experience, the Aurora(https://catalog.workshops.aws/aurora-dsql/en-US) workshop provides comprehensive training that covers:\n",
    "\n",
    "- Hands-on experience with Amazon Aurora DSQL's serverless distributed SQL capabilities\n",
    "- Understanding Aurora DSQL's ACID transactions and active-active replication mechanisms\n",
    "- Best practices for data modeling and optimistic concurrency control\n",
    "- Building a retail rewards points application with multi-region active-active resiliency\n",
    "\n",
    "## Additional Resources 📚\n",
    "\n",
    "### Aurora DSQL Documentation\n",
    "- [Aurora DSQL User Guide](https://docs.aws.amazon.com/aurora-dsql/latest/userguide/what-is-aurora-dsql.html)\n",
    "- [Aurora DSQL API Reference](https://docs.aws.amazon.com/aurora-dsql/latest/APIReference/)\n",
    "- [Aurora DSQL Workshop](https://catalog.workshops.aws/aurora-dsql/en-US)\n",
    "\n",
    "### Migration Tools & Services\n",
    "- [AWS Database Migration Service](https://docs.aws.amazon.com/dms/latest/userguide/Welcome.html)\n",
    "- [AWS Glue ETL Jobs](https://docs.aws.amazon.com/glue/latest/dg/author-job.html)\n",
    "- [Amazon Kinesis Data Streams](https://docs.aws.amazon.com/kinesis/latest/dev/introduction.html)\n",
    "\n",
    "### PostgreSQL Compatibility\n",
    "- [Aurora DSQL PostgreSQL Compatibility](https://docs.aws.amazon.com/aurora-dsql/latest/userguide/working-with.html)\n",
    "- [PostgreSQL Migration Best Practices](https://docs.aws.amazon.com/dms/latest/userguide/CHAP_Source.PostgreSQL.html)\n",
    "- [Database Migration Planning](https://docs.aws.amazon.com/prescriptive-guidance/latest/migration-sql-server-aurora-postgresql/)"
   ]
  }
 ],
 "metadata": {
  "kernelspec": {
   "display_name": "Python 3 (ipykernel)",
   "language": "python",
   "name": "python3"
  },
  "language_info": {
   "codemirror_mode": {
    "name": "ipython",
    "version": 3
   },
   "file_extension": ".py",
   "mimetype": "text/x-python",
   "name": "python",
   "nbconvert_exporter": "python",
   "pygments_lexer": "ipython3",
   "version": "3.9.17"
  }
 },
 "nbformat": 4,
 "nbformat_minor": 5
}
